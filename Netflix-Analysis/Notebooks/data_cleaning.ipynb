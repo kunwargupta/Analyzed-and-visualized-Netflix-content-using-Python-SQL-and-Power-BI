{
 "cells": [
  {
   "cell_type": "markdown",
   "id": "51bf6b61-6c93-4db3-affb-30dfc1718e36",
   "metadata": {},
   "source": [
    "## Project 1 for Data Analysis Role"
   ]
  },
  {
   "cell_type": "code",
   "execution_count": 1,
   "id": "7893e48f-57a9-469f-bfec-752cab20eb1f",
   "metadata": {},
   "outputs": [],
   "source": [
    "import pandas as pd"
   ]
  },
  {
   "cell_type": "code",
   "execution_count": 2,
   "id": "57d1e02f-e12a-4556-b7e5-130dc7515bf3",
   "metadata": {},
   "outputs": [],
   "source": [
    "df = pd.read_csv('netflix1.csv')"
   ]
  },
  {
   "cell_type": "code",
   "execution_count": 3,
   "id": "a985e2a7-522f-475c-87c2-5db0ef93b96c",
   "metadata": {},
   "outputs": [
    {
     "name": "stdout",
     "output_type": "stream",
     "text": [
      "<class 'pandas.core.frame.DataFrame'>\n",
      "RangeIndex: 8790 entries, 0 to 8789\n",
      "Data columns (total 10 columns):\n",
      " #   Column        Non-Null Count  Dtype \n",
      "---  ------        --------------  ----- \n",
      " 0   show_id       8790 non-null   object\n",
      " 1   type          8790 non-null   object\n",
      " 2   title         8790 non-null   object\n",
      " 3   director      8790 non-null   object\n",
      " 4   country       8790 non-null   object\n",
      " 5   date_added    8790 non-null   object\n",
      " 6   release_year  8790 non-null   int64 \n",
      " 7   rating        8790 non-null   object\n",
      " 8   duration      8790 non-null   object\n",
      " 9   listed_in     8790 non-null   object\n",
      "dtypes: int64(1), object(9)\n",
      "memory usage: 686.8+ KB\n"
     ]
    }
   ],
   "source": [
    "# Basic Overview\n",
    "\n",
    "df.info()"
   ]
  },
  {
   "cell_type": "code",
   "execution_count": 10,
   "id": "dcd845a1-6991-4d7d-a7de-98c2b796eb16",
   "metadata": {},
   "outputs": [
    {
     "data": {
      "text/html": [
       "<div>\n",
       "<style scoped>\n",
       "    .dataframe tbody tr th:only-of-type {\n",
       "        vertical-align: middle;\n",
       "    }\n",
       "\n",
       "    .dataframe tbody tr th {\n",
       "        vertical-align: top;\n",
       "    }\n",
       "\n",
       "    .dataframe thead th {\n",
       "        text-align: right;\n",
       "    }\n",
       "</style>\n",
       "<table border=\"1\" class=\"dataframe\">\n",
       "  <thead>\n",
       "    <tr style=\"text-align: right;\">\n",
       "      <th></th>\n",
       "      <th>show_id</th>\n",
       "      <th>type</th>\n",
       "      <th>title</th>\n",
       "      <th>director</th>\n",
       "      <th>country</th>\n",
       "      <th>date_added</th>\n",
       "      <th>release_year</th>\n",
       "      <th>rating</th>\n",
       "      <th>duration</th>\n",
       "      <th>listed_in</th>\n",
       "      <th>duration_int</th>\n",
       "      <th>duration_type</th>\n",
       "    </tr>\n",
       "  </thead>\n",
       "  <tbody>\n",
       "    <tr>\n",
       "      <th>0</th>\n",
       "      <td>s1</td>\n",
       "      <td>Movie</td>\n",
       "      <td>Dick Johnson Is Dead</td>\n",
       "      <td>Kirsten Johnson</td>\n",
       "      <td>United States</td>\n",
       "      <td>2021-09-25</td>\n",
       "      <td>2020</td>\n",
       "      <td>PG-13</td>\n",
       "      <td>90 min</td>\n",
       "      <td>Documentaries</td>\n",
       "      <td>90</td>\n",
       "      <td>min</td>\n",
       "    </tr>\n",
       "    <tr>\n",
       "      <th>1</th>\n",
       "      <td>s3</td>\n",
       "      <td>TV Show</td>\n",
       "      <td>Ganglands</td>\n",
       "      <td>Julien Leclercq</td>\n",
       "      <td>France</td>\n",
       "      <td>2021-09-24</td>\n",
       "      <td>2021</td>\n",
       "      <td>TV-MA</td>\n",
       "      <td>1 Season</td>\n",
       "      <td>Crime TV Shows, International TV Shows, TV Act...</td>\n",
       "      <td>1</td>\n",
       "      <td>Season</td>\n",
       "    </tr>\n",
       "    <tr>\n",
       "      <th>2</th>\n",
       "      <td>s6</td>\n",
       "      <td>TV Show</td>\n",
       "      <td>Midnight Mass</td>\n",
       "      <td>Mike Flanagan</td>\n",
       "      <td>United States</td>\n",
       "      <td>2021-09-24</td>\n",
       "      <td>2021</td>\n",
       "      <td>TV-MA</td>\n",
       "      <td>1 Season</td>\n",
       "      <td>TV Dramas, TV Horror, TV Mysteries</td>\n",
       "      <td>1</td>\n",
       "      <td>Season</td>\n",
       "    </tr>\n",
       "    <tr>\n",
       "      <th>3</th>\n",
       "      <td>s14</td>\n",
       "      <td>Movie</td>\n",
       "      <td>Confessions of an Invisible Girl</td>\n",
       "      <td>Bruno Garotti</td>\n",
       "      <td>Brazil</td>\n",
       "      <td>2021-09-22</td>\n",
       "      <td>2021</td>\n",
       "      <td>TV-PG</td>\n",
       "      <td>91 min</td>\n",
       "      <td>Children &amp; Family Movies, Comedies</td>\n",
       "      <td>91</td>\n",
       "      <td>min</td>\n",
       "    </tr>\n",
       "    <tr>\n",
       "      <th>4</th>\n",
       "      <td>s8</td>\n",
       "      <td>Movie</td>\n",
       "      <td>Sankofa</td>\n",
       "      <td>Haile Gerima</td>\n",
       "      <td>United States</td>\n",
       "      <td>2021-09-24</td>\n",
       "      <td>1993</td>\n",
       "      <td>TV-MA</td>\n",
       "      <td>125 min</td>\n",
       "      <td>Dramas, Independent Movies, International Movies</td>\n",
       "      <td>125</td>\n",
       "      <td>min</td>\n",
       "    </tr>\n",
       "  </tbody>\n",
       "</table>\n",
       "</div>"
      ],
      "text/plain": [
       "  show_id     type                             title         director  \\\n",
       "0      s1    Movie              Dick Johnson Is Dead  Kirsten Johnson   \n",
       "1      s3  TV Show                         Ganglands  Julien Leclercq   \n",
       "2      s6  TV Show                     Midnight Mass    Mike Flanagan   \n",
       "3     s14    Movie  Confessions of an Invisible Girl    Bruno Garotti   \n",
       "4      s8    Movie                           Sankofa     Haile Gerima   \n",
       "\n",
       "         country date_added  release_year rating  duration  \\\n",
       "0  United States 2021-09-25          2020  PG-13    90 min   \n",
       "1         France 2021-09-24          2021  TV-MA  1 Season   \n",
       "2  United States 2021-09-24          2021  TV-MA  1 Season   \n",
       "3         Brazil 2021-09-22          2021  TV-PG    91 min   \n",
       "4  United States 2021-09-24          1993  TV-MA   125 min   \n",
       "\n",
       "                                           listed_in  duration_int  \\\n",
       "0                                      Documentaries            90   \n",
       "1  Crime TV Shows, International TV Shows, TV Act...             1   \n",
       "2                 TV Dramas, TV Horror, TV Mysteries             1   \n",
       "3                 Children & Family Movies, Comedies            91   \n",
       "4   Dramas, Independent Movies, International Movies           125   \n",
       "\n",
       "  duration_type  \n",
       "0           min  \n",
       "1        Season  \n",
       "2        Season  \n",
       "3           min  \n",
       "4           min  "
      ]
     },
     "execution_count": 10,
     "metadata": {},
     "output_type": "execute_result"
    }
   ],
   "source": [
    "# Descriptive Statistics\n",
    "\n",
    "df.head(5)"
   ]
  },
  {
   "cell_type": "code",
   "execution_count": 8,
   "id": "1c7259c3-4578-48f1-a2b9-9b4e9f65388f",
   "metadata": {},
   "outputs": [],
   "source": [
    "df['date_added'] = pd.to_datetime(df['date_added'], errors = 'coerce')"
   ]
  },
  {
   "cell_type": "code",
   "execution_count": 9,
   "id": "d23f76d1-3439-4331-8a68-c585d7c9e4c0",
   "metadata": {},
   "outputs": [],
   "source": [
    "df[['duration_int', 'duration_type']] = df['duration'].str.extract(r'(\\d+)\\s*(\\w+)')\n",
    "df['duration_int'] = pd.to_numeric(df['duration_int'], errors = 'coerce')"
   ]
  },
  {
   "cell_type": "code",
   "execution_count": 11,
   "id": "8ef03433-94e2-4deb-8bf4-264677d72ebd",
   "metadata": {},
   "outputs": [],
   "source": [
    "# 1. Strip whitespace from column names\n",
    "\n",
    "df.columns = df.columns.str.strip()"
   ]
  },
  {
   "cell_type": "code",
   "execution_count": 13,
   "id": "034cb9dc-9f4f-449d-961b-3c7c4b70a4fa",
   "metadata": {},
   "outputs": [
    {
     "data": {
      "text/plain": [
       "np.int64(0)"
      ]
     },
     "execution_count": 13,
     "metadata": {},
     "output_type": "execute_result"
    }
   ],
   "source": [
    "df.duplicated().sum()"
   ]
  },
  {
   "cell_type": "code",
   "execution_count": 15,
   "id": "a012cd25-8b32-48e8-97f9-d092610ce4be",
   "metadata": {},
   "outputs": [
    {
     "data": {
      "text/plain": [
       "show_id          0\n",
       "type             0\n",
       "title            0\n",
       "director         0\n",
       "country          0\n",
       "date_added       0\n",
       "release_year     0\n",
       "rating           0\n",
       "duration         0\n",
       "listed_in        0\n",
       "duration_int     0\n",
       "duration_type    0\n",
       "dtype: int64"
      ]
     },
     "execution_count": 15,
     "metadata": {},
     "output_type": "execute_result"
    }
   ],
   "source": [
    "df.isnull().sum()"
   ]
  },
  {
   "cell_type": "code",
   "execution_count": 16,
   "id": "f75e4beb-cb27-433a-8be3-77662675edfc",
   "metadata": {},
   "outputs": [],
   "source": [
    "df.drop(columns = ['duration'], inplace = True)"
   ]
  },
  {
   "cell_type": "code",
   "execution_count": 18,
   "id": "0eb5d50a-f977-44ef-954a-6003c8014b65",
   "metadata": {},
   "outputs": [
    {
     "data": {
      "text/plain": [
       "array(['United States', 'France', 'Brazil', 'United Kingdom', 'India',\n",
       "       'Germany', 'Pakistan', 'Not Given', 'China', 'South Africa',\n",
       "       'Japan', 'Nigeria', 'Spain', 'Philippines', 'Australia',\n",
       "       'Argentina', 'Canada', 'Hong Kong', 'Italy', 'New Zealand',\n",
       "       'Egypt', 'Colombia', 'Mexico', 'Belgium', 'Switzerland', 'Taiwan',\n",
       "       'Bulgaria', 'Poland', 'South Korea', 'Saudi Arabia', 'Thailand',\n",
       "       'Indonesia', 'Kuwait', 'Malaysia', 'Vietnam', 'Lebanon', 'Romania',\n",
       "       'Syria', 'United Arab Emirates', 'Sweden', 'Mauritius', 'Austria',\n",
       "       'Turkey', 'Czech Republic', 'Cameroon', 'Netherlands', 'Ireland',\n",
       "       'Russia', 'Kenya', 'Chile', 'Uruguay', 'Bangladesh', 'Portugal',\n",
       "       'Hungary', 'Norway', 'Singapore', 'Iceland', 'Serbia', 'Namibia',\n",
       "       'Peru', 'Mozambique', 'Ghana', 'Zimbabwe', 'Israel', 'Finland',\n",
       "       'Denmark', 'Paraguay', 'Cambodia', 'Georgia', 'Soviet Union',\n",
       "       'Greece', 'West Germany', 'Iran', 'Venezuela', 'Slovenia',\n",
       "       'Guatemala', 'Jamaica', 'Somalia', 'Croatia', 'Jordan',\n",
       "       'Luxembourg', 'Senegal', 'Belarus', 'Puerto Rico', 'Cyprus',\n",
       "       'Ukraine'], dtype=object)"
      ]
     },
     "execution_count": 18,
     "metadata": {},
     "output_type": "execute_result"
    }
   ],
   "source": [
    "df['rating'].unique()\n",
    "df['country'].unique()\n"
   ]
  },
  {
   "cell_type": "code",
   "execution_count": 19,
   "id": "8a5de7f9-c0e5-476a-94d4-2cc1d1e04e96",
   "metadata": {},
   "outputs": [
    {
     "ename": "KeyError",
     "evalue": "\"['duration_unit'] not in index\"",
     "output_type": "error",
     "traceback": [
      "\u001b[31m---------------------------------------------------------------------------\u001b[39m",
      "\u001b[31mKeyError\u001b[39m                                  Traceback (most recent call last)",
      "\u001b[36mCell\u001b[39m\u001b[36m \u001b[39m\u001b[32mIn[19]\u001b[39m\u001b[32m, line 1\u001b[39m\n\u001b[32m----> \u001b[39m\u001b[32m1\u001b[39m df_cleaned = \u001b[43mdf\u001b[49m\u001b[43m[\u001b[49m\u001b[43m[\u001b[49m\u001b[33;43m'\u001b[39;49m\u001b[33;43mshow_id\u001b[39;49m\u001b[33;43m'\u001b[39;49m\u001b[43m,\u001b[49m\u001b[43m \u001b[49m\u001b[33;43m'\u001b[39;49m\u001b[33;43mtype\u001b[39;49m\u001b[33;43m'\u001b[39;49m\u001b[43m,\u001b[49m\u001b[43m \u001b[49m\u001b[33;43m'\u001b[39;49m\u001b[33;43mtitle\u001b[39;49m\u001b[33;43m'\u001b[39;49m\u001b[43m,\u001b[49m\u001b[43m \u001b[49m\u001b[33;43m'\u001b[39;49m\u001b[33;43mdirector\u001b[39;49m\u001b[33;43m'\u001b[39;49m\u001b[43m,\u001b[49m\u001b[43m \u001b[49m\u001b[33;43m'\u001b[39;49m\u001b[33;43mcountry\u001b[39;49m\u001b[33;43m'\u001b[39;49m\u001b[43m,\u001b[49m\n\u001b[32m      2\u001b[39m \u001b[43m                         \u001b[49m\u001b[33;43m'\u001b[39;49m\u001b[33;43mdate_added\u001b[39;49m\u001b[33;43m'\u001b[39;49m\u001b[43m,\u001b[49m\u001b[43m \u001b[49m\u001b[33;43m'\u001b[39;49m\u001b[33;43mrelease_year\u001b[39;49m\u001b[33;43m'\u001b[39;49m\u001b[43m,\u001b[49m\u001b[43m \u001b[49m\u001b[33;43m'\u001b[39;49m\u001b[33;43mrating\u001b[39;49m\u001b[33;43m'\u001b[39;49m\u001b[43m,\u001b[49m\u001b[43m \u001b[49m\n\u001b[32m      3\u001b[39m \u001b[43m                         \u001b[49m\u001b[33;43m'\u001b[39;49m\u001b[33;43mduration_int\u001b[39;49m\u001b[33;43m'\u001b[39;49m\u001b[43m,\u001b[49m\u001b[43m \u001b[49m\u001b[33;43m'\u001b[39;49m\u001b[33;43mduration_unit\u001b[39;49m\u001b[33;43m'\u001b[39;49m\u001b[43m,\u001b[49m\u001b[43m \u001b[49m\u001b[33;43m'\u001b[39;49m\u001b[33;43mlisted_in\u001b[39;49m\u001b[33;43m'\u001b[39;49m\u001b[43m]\u001b[49m\u001b[43m]\u001b[49m\n",
      "\u001b[36mFile \u001b[39m\u001b[32m~\\AppData\\Local\\Programs\\Python\\Python313\\Lib\\site-packages\\pandas\\core\\frame.py:4108\u001b[39m, in \u001b[36mDataFrame.__getitem__\u001b[39m\u001b[34m(self, key)\u001b[39m\n\u001b[32m   4106\u001b[39m     \u001b[38;5;28;01mif\u001b[39;00m is_iterator(key):\n\u001b[32m   4107\u001b[39m         key = \u001b[38;5;28mlist\u001b[39m(key)\n\u001b[32m-> \u001b[39m\u001b[32m4108\u001b[39m     indexer = \u001b[38;5;28;43mself\u001b[39;49m\u001b[43m.\u001b[49m\u001b[43mcolumns\u001b[49m\u001b[43m.\u001b[49m\u001b[43m_get_indexer_strict\u001b[49m\u001b[43m(\u001b[49m\u001b[43mkey\u001b[49m\u001b[43m,\u001b[49m\u001b[43m \u001b[49m\u001b[33;43m\"\u001b[39;49m\u001b[33;43mcolumns\u001b[39;49m\u001b[33;43m\"\u001b[39;49m\u001b[43m)\u001b[49m[\u001b[32m1\u001b[39m]\n\u001b[32m   4110\u001b[39m \u001b[38;5;66;03m# take() does not accept boolean indexers\u001b[39;00m\n\u001b[32m   4111\u001b[39m \u001b[38;5;28;01mif\u001b[39;00m \u001b[38;5;28mgetattr\u001b[39m(indexer, \u001b[33m\"\u001b[39m\u001b[33mdtype\u001b[39m\u001b[33m\"\u001b[39m, \u001b[38;5;28;01mNone\u001b[39;00m) == \u001b[38;5;28mbool\u001b[39m:\n",
      "\u001b[36mFile \u001b[39m\u001b[32m~\\AppData\\Local\\Programs\\Python\\Python313\\Lib\\site-packages\\pandas\\core\\indexes\\base.py:6200\u001b[39m, in \u001b[36mIndex._get_indexer_strict\u001b[39m\u001b[34m(self, key, axis_name)\u001b[39m\n\u001b[32m   6197\u001b[39m \u001b[38;5;28;01melse\u001b[39;00m:\n\u001b[32m   6198\u001b[39m     keyarr, indexer, new_indexer = \u001b[38;5;28mself\u001b[39m._reindex_non_unique(keyarr)\n\u001b[32m-> \u001b[39m\u001b[32m6200\u001b[39m \u001b[38;5;28;43mself\u001b[39;49m\u001b[43m.\u001b[49m\u001b[43m_raise_if_missing\u001b[49m\u001b[43m(\u001b[49m\u001b[43mkeyarr\u001b[49m\u001b[43m,\u001b[49m\u001b[43m \u001b[49m\u001b[43mindexer\u001b[49m\u001b[43m,\u001b[49m\u001b[43m \u001b[49m\u001b[43maxis_name\u001b[49m\u001b[43m)\u001b[49m\n\u001b[32m   6202\u001b[39m keyarr = \u001b[38;5;28mself\u001b[39m.take(indexer)\n\u001b[32m   6203\u001b[39m \u001b[38;5;28;01mif\u001b[39;00m \u001b[38;5;28misinstance\u001b[39m(key, Index):\n\u001b[32m   6204\u001b[39m     \u001b[38;5;66;03m# GH 42790 - Preserve name from an Index\u001b[39;00m\n",
      "\u001b[36mFile \u001b[39m\u001b[32m~\\AppData\\Local\\Programs\\Python\\Python313\\Lib\\site-packages\\pandas\\core\\indexes\\base.py:6252\u001b[39m, in \u001b[36mIndex._raise_if_missing\u001b[39m\u001b[34m(self, key, indexer, axis_name)\u001b[39m\n\u001b[32m   6249\u001b[39m     \u001b[38;5;28;01mraise\u001b[39;00m \u001b[38;5;167;01mKeyError\u001b[39;00m(\u001b[33mf\u001b[39m\u001b[33m\"\u001b[39m\u001b[33mNone of [\u001b[39m\u001b[38;5;132;01m{\u001b[39;00mkey\u001b[38;5;132;01m}\u001b[39;00m\u001b[33m] are in the [\u001b[39m\u001b[38;5;132;01m{\u001b[39;00maxis_name\u001b[38;5;132;01m}\u001b[39;00m\u001b[33m]\u001b[39m\u001b[33m\"\u001b[39m)\n\u001b[32m   6251\u001b[39m not_found = \u001b[38;5;28mlist\u001b[39m(ensure_index(key)[missing_mask.nonzero()[\u001b[32m0\u001b[39m]].unique())\n\u001b[32m-> \u001b[39m\u001b[32m6252\u001b[39m \u001b[38;5;28;01mraise\u001b[39;00m \u001b[38;5;167;01mKeyError\u001b[39;00m(\u001b[33mf\u001b[39m\u001b[33m\"\u001b[39m\u001b[38;5;132;01m{\u001b[39;00mnot_found\u001b[38;5;132;01m}\u001b[39;00m\u001b[33m not in index\u001b[39m\u001b[33m\"\u001b[39m)\n",
      "\u001b[31mKeyError\u001b[39m: \"['duration_unit'] not in index\""
     ]
    }
   ],
   "source": [
    "df_cleaned = df[['show_id', 'type', 'title', 'director', 'country',\n",
    "                         'date_added', 'release_year', 'rating', \n",
    "                         'duration_int', 'duration_unit', 'listed_in']]"
   ]
  },
  {
   "cell_type": "code",
   "execution_count": 20,
   "id": "735f2d75-d5d5-4c73-a33b-fee46bb91886",
   "metadata": {},
   "outputs": [],
   "source": [
    "df_cleaned = df[['show_id', 'type', 'title', 'director', 'country',\n",
    "                         'date_added', 'release_year', 'rating', \n",
    "                         'duration_int', 'duration_type', 'listed_in']]"
   ]
  },
  {
   "cell_type": "code",
   "execution_count": 21,
   "id": "b59d5883-4b59-4ff9-a076-ecc9ff407909",
   "metadata": {},
   "outputs": [
    {
     "name": "stdout",
     "output_type": "stream",
     "text": [
      "Collecting SQLAlchemy\n",
      "  Downloading sqlalchemy-2.0.40-cp313-cp313-win_amd64.whl.metadata (9.9 kB)\n",
      "Collecting pymysql\n",
      "  Downloading PyMySQL-1.1.1-py3-none-any.whl.metadata (4.4 kB)\n",
      "Collecting greenlet>=1 (from SQLAlchemy)\n",
      "  Downloading greenlet-3.1.1-cp313-cp313-win_amd64.whl.metadata (3.9 kB)\n",
      "Requirement already satisfied: typing-extensions>=4.6.0 in c:\\users\\kunwar gupta\\appdata\\local\\programs\\python\\python313\\lib\\site-packages (from SQLAlchemy) (4.12.2)\n",
      "Downloading sqlalchemy-2.0.40-cp313-cp313-win_amd64.whl (2.1 MB)\n",
      "   ---------------------------------------- 0.0/2.1 MB ? eta -:--:--\n",
      "   ---------------------------------------- 0.0/2.1 MB ? eta -:--:--\n",
      "   ---------------------------------------- 0.0/2.1 MB ? eta -:--:--\n",
      "   ---------------------------------------- 0.0/2.1 MB ? eta -:--:--\n",
      "   ---------------------------------------- 0.0/2.1 MB ? eta -:--:--\n",
      "   ---------------------------------------- 0.0/2.1 MB ? eta -:--:--\n",
      "   ---------------------------------------- 0.0/2.1 MB ? eta -:--:--\n",
      "   ---------------------------------------- 0.0/2.1 MB ? eta -:--:--\n",
      "   ---------------------------------------- 0.0/2.1 MB ? eta -:--:--\n",
      "   ---------------------------------------- 0.0/2.1 MB ? eta -:--:--\n",
      "   ---- ----------------------------------- 0.3/2.1 MB ? eta -:--:--\n",
      "   ---- ----------------------------------- 0.3/2.1 MB ? eta -:--:--\n",
      "   ---- ----------------------------------- 0.3/2.1 MB ? eta -:--:--\n",
      "   ---- ----------------------------------- 0.3/2.1 MB ? eta -:--:--\n",
      "   ---- ----------------------------------- 0.3/2.1 MB ? eta -:--:--\n",
      "   ---- ----------------------------------- 0.3/2.1 MB ? eta -:--:--\n",
      "   ---- ----------------------------------- 0.3/2.1 MB ? eta -:--:--\n",
      "   ---- ----------------------------------- 0.3/2.1 MB ? eta -:--:--\n",
      "   --------- ------------------------------ 0.5/2.1 MB 150.0 kB/s eta 0:00:11\n",
      "   --------- ------------------------------ 0.5/2.1 MB 150.0 kB/s eta 0:00:11\n",
      "   --------- ------------------------------ 0.5/2.1 MB 150.0 kB/s eta 0:00:11\n",
      "   --------- ------------------------------ 0.5/2.1 MB 150.0 kB/s eta 0:00:11\n",
      "   --------- ------------------------------ 0.5/2.1 MB 150.0 kB/s eta 0:00:11\n",
      "   --------- ------------------------------ 0.5/2.1 MB 150.0 kB/s eta 0:00:11\n",
      "   --------- ------------------------------ 0.5/2.1 MB 150.0 kB/s eta 0:00:11\n",
      "   --------- ------------------------------ 0.5/2.1 MB 150.0 kB/s eta 0:00:11\n",
      "   --------- ------------------------------ 0.5/2.1 MB 150.0 kB/s eta 0:00:11\n",
      "   --------- ------------------------------ 0.5/2.1 MB 150.0 kB/s eta 0:00:11\n",
      "   --------- ------------------------------ 0.5/2.1 MB 150.0 kB/s eta 0:00:11\n",
      "   --------- ------------------------------ 0.5/2.1 MB 150.0 kB/s eta 0:00:11\n",
      "   --------- ------------------------------ 0.5/2.1 MB 150.0 kB/s eta 0:00:11\n",
      "   --------- ------------------------------ 0.5/2.1 MB 150.0 kB/s eta 0:00:11\n",
      "   -------------- ------------------------- 0.8/2.1 MB 111.5 kB/s eta 0:00:12\n",
      "   -------------- ------------------------- 0.8/2.1 MB 111.5 kB/s eta 0:00:12\n",
      "   -------------- ------------------------- 0.8/2.1 MB 111.5 kB/s eta 0:00:12\n",
      "   -------------- ------------------------- 0.8/2.1 MB 111.5 kB/s eta 0:00:12\n",
      "   -------------- ------------------------- 0.8/2.1 MB 111.5 kB/s eta 0:00:12\n",
      "   -------------- ------------------------- 0.8/2.1 MB 111.5 kB/s eta 0:00:12\n",
      "   -------------- ------------------------- 0.8/2.1 MB 111.5 kB/s eta 0:00:12\n",
      "   -------------- ------------------------- 0.8/2.1 MB 111.5 kB/s eta 0:00:12\n",
      "   -------------- ------------------------- 0.8/2.1 MB 111.5 kB/s eta 0:00:12\n",
      "   -------------- ------------------------- 0.8/2.1 MB 111.5 kB/s eta 0:00:12\n",
      "   -------------- ------------------------- 0.8/2.1 MB 111.5 kB/s eta 0:00:12\n",
      "   -------------- ------------------------- 0.8/2.1 MB 111.5 kB/s eta 0:00:12\n",
      "   -------------- ------------------------- 0.8/2.1 MB 111.5 kB/s eta 0:00:12\n",
      "   ------------------- -------------------- 1.0/2.1 MB 103.5 kB/s eta 0:00:11\n",
      "   ------------------- -------------------- 1.0/2.1 MB 103.5 kB/s eta 0:00:11\n",
      "   ------------------- -------------------- 1.0/2.1 MB 103.5 kB/s eta 0:00:11\n",
      "   ------------------- -------------------- 1.0/2.1 MB 103.5 kB/s eta 0:00:11\n",
      "   ------------------- -------------------- 1.0/2.1 MB 103.5 kB/s eta 0:00:11\n",
      "   ------------------- -------------------- 1.0/2.1 MB 103.5 kB/s eta 0:00:11\n",
      "   ------------------- -------------------- 1.0/2.1 MB 103.5 kB/s eta 0:00:11\n",
      "   ------------------- -------------------- 1.0/2.1 MB 103.5 kB/s eta 0:00:11\n",
      "   ------------------- -------------------- 1.0/2.1 MB 103.5 kB/s eta 0:00:11\n",
      "   ------------------- -------------------- 1.0/2.1 MB 103.5 kB/s eta 0:00:11\n",
      "   ------------------- -------------------- 1.0/2.1 MB 103.5 kB/s eta 0:00:11\n",
      "   ------------------- -------------------- 1.0/2.1 MB 103.5 kB/s eta 0:00:11\n",
      "   ------------------- -------------------- 1.0/2.1 MB 103.5 kB/s eta 0:00:11\n",
      "   ------------------- -------------------- 1.0/2.1 MB 103.5 kB/s eta 0:00:11\n",
      "   ------------------- -------------------- 1.0/2.1 MB 103.5 kB/s eta 0:00:11\n",
      "   ------------------- -------------------- 1.0/2.1 MB 103.5 kB/s eta 0:00:11\n",
      "   ------------------- -------------------- 1.0/2.1 MB 103.5 kB/s eta 0:00:11\n",
      "   ------------------- -------------------- 1.0/2.1 MB 103.5 kB/s eta 0:00:11\n",
      "   ------------------- -------------------- 1.0/2.1 MB 103.5 kB/s eta 0:00:11\n",
      "   ------------------- -------------------- 1.0/2.1 MB 103.5 kB/s eta 0:00:11\n",
      "   ------------------------ --------------- 1.3/2.1 MB 85.7 kB/s eta 0:00:10\n",
      "   ------------------------ --------------- 1.3/2.1 MB 85.7 kB/s eta 0:00:10\n",
      "   ------------------------ --------------- 1.3/2.1 MB 85.7 kB/s eta 0:00:10\n",
      "   ------------------------ --------------- 1.3/2.1 MB 85.7 kB/s eta 0:00:10\n",
      "   ------------------------ --------------- 1.3/2.1 MB 85.7 kB/s eta 0:00:10\n",
      "   ------------------------ --------------- 1.3/2.1 MB 85.7 kB/s eta 0:00:10\n",
      "   ------------------------ --------------- 1.3/2.1 MB 85.7 kB/s eta 0:00:10\n",
      "   ------------------------ --------------- 1.3/2.1 MB 85.7 kB/s eta 0:00:10\n",
      "   ------------------------ --------------- 1.3/2.1 MB 85.7 kB/s eta 0:00:10\n",
      "   ------------------------ --------------- 1.3/2.1 MB 85.7 kB/s eta 0:00:10\n",
      "   ------------------------ --------------- 1.3/2.1 MB 85.7 kB/s eta 0:00:10\n",
      "   ------------------------ --------------- 1.3/2.1 MB 85.7 kB/s eta 0:00:10\n",
      "   ------------------------ --------------- 1.3/2.1 MB 85.7 kB/s eta 0:00:10\n",
      "   ------------------------ --------------- 1.3/2.1 MB 85.7 kB/s eta 0:00:10\n",
      "   ------------------------ --------------- 1.3/2.1 MB 85.7 kB/s eta 0:00:10\n",
      "   ------------------------ --------------- 1.3/2.1 MB 85.7 kB/s eta 0:00:10\n",
      "   ------------------------ --------------- 1.3/2.1 MB 85.7 kB/s eta 0:00:10\n",
      "   ------------------------ --------------- 1.3/2.1 MB 85.7 kB/s eta 0:00:10\n",
      "   ------------------------ --------------- 1.3/2.1 MB 85.7 kB/s eta 0:00:10\n",
      "   ------------------------ --------------- 1.3/2.1 MB 85.7 kB/s eta 0:00:10\n",
      "   ------------------------ --------------- 1.3/2.1 MB 85.7 kB/s eta 0:00:10\n",
      "   ----------------------------- ---------- 1.6/2.1 MB 77.8 kB/s eta 0:00:07\n",
      "   ----------------------------- ---------- 1.6/2.1 MB 77.8 kB/s eta 0:00:07\n",
      "   ----------------------------- ---------- 1.6/2.1 MB 77.8 kB/s eta 0:00:07\n",
      "   ----------------------------- ---------- 1.6/2.1 MB 77.8 kB/s eta 0:00:07\n",
      "   ----------------------------- ---------- 1.6/2.1 MB 77.8 kB/s eta 0:00:07\n",
      "   ----------------------------- ---------- 1.6/2.1 MB 77.8 kB/s eta 0:00:07\n",
      "   ----------------------------- ---------- 1.6/2.1 MB 77.8 kB/s eta 0:00:07\n",
      "   ----------------------------- ---------- 1.6/2.1 MB 77.8 kB/s eta 0:00:07\n",
      "   ----------------------------- ---------- 1.6/2.1 MB 77.8 kB/s eta 0:00:07\n",
      "   ----------------------------- ---------- 1.6/2.1 MB 77.8 kB/s eta 0:00:07\n",
      "   ----------------------------- ---------- 1.6/2.1 MB 77.8 kB/s eta 0:00:07\n",
      "   ----------------------------- ---------- 1.6/2.1 MB 77.8 kB/s eta 0:00:07\n",
      "   ---------------------------------- ----- 1.8/2.1 MB 80.2 kB/s eta 0:00:04\n",
      "   ---------------------------------- ----- 1.8/2.1 MB 80.2 kB/s eta 0:00:04\n",
      "   ---------------------------------- ----- 1.8/2.1 MB 80.2 kB/s eta 0:00:04\n",
      "   ---------------------------------- ----- 1.8/2.1 MB 80.2 kB/s eta 0:00:04\n",
      "   ---------------------------------- ----- 1.8/2.1 MB 80.2 kB/s eta 0:00:04\n",
      "   ---------------------------------- ----- 1.8/2.1 MB 80.2 kB/s eta 0:00:04\n",
      "   ---------------------------------- ----- 1.8/2.1 MB 80.2 kB/s eta 0:00:04\n",
      "   ---------------------------------- ----- 1.8/2.1 MB 80.2 kB/s eta 0:00:04\n",
      "   ---------------------------------- ----- 1.8/2.1 MB 80.2 kB/s eta 0:00:04\n",
      "   ---------------------------------- ----- 1.8/2.1 MB 80.2 kB/s eta 0:00:04\n",
      "   ---------------------------------------  2.1/2.1 MB 83.8 kB/s eta 0:00:01\n",
      "   ---------------------------------------- 2.1/2.1 MB 83.8 kB/s eta 0:00:00\n",
      "Downloading PyMySQL-1.1.1-py3-none-any.whl (44 kB)\n",
      "Downloading greenlet-3.1.1-cp313-cp313-win_amd64.whl (299 kB)\n",
      "Installing collected packages: pymysql, greenlet, SQLAlchemy\n",
      "Successfully installed SQLAlchemy-2.0.40 greenlet-3.1.1 pymysql-1.1.1\n",
      "Note: you may need to restart the kernel to use updated packages.\n"
     ]
    }
   ],
   "source": [
    "pip install SQLAlchemy pymysql\n"
   ]
  },
  {
   "cell_type": "code",
   "execution_count": 23,
   "id": "f7708194-f96e-4ccf-8b58-2a74b373f563",
   "metadata": {},
   "outputs": [],
   "source": [
    "from sqlalchemy import create_engine\n",
    "\n",
    "# Replace with your MySQL details\n",
    "username = 'root'\n",
    "password = '12345'\n",
    "host = 'localhost'       # or your remote host\n",
    "port = '3306'            # default MySQL port\n",
    "database = 'Netflix'\n",
    "\n",
    "# SQLAlchemy connection string\n",
    "engine = create_engine(f'mysql+pymysql://{username}:{password}@{host}:{port}/{database}')\n"
   ]
  },
  {
   "cell_type": "code",
   "execution_count": 24,
   "id": "d1d8cc9b-81b4-46f2-a2ad-8e6a11e5e0db",
   "metadata": {},
   "outputs": [
    {
     "data": {
      "text/plain": [
       "8790"
      ]
     },
     "execution_count": 24,
     "metadata": {},
     "output_type": "execute_result"
    }
   ],
   "source": [
    "df_cleaned.to_sql(name='netflix_cleaned', con=engine, if_exists='append', index=False)\n"
   ]
  },
  {
   "cell_type": "code",
   "execution_count": null,
   "id": "fa9e996d-4148-4fb0-8095-8aae0dbd8d8b",
   "metadata": {},
   "outputs": [],
   "source": []
  }
 ],
 "metadata": {
  "kernelspec": {
   "display_name": "Python 3 (ipykernel)",
   "language": "python",
   "name": "python3"
  },
  "language_info": {
   "codemirror_mode": {
    "name": "ipython",
    "version": 3
   },
   "file_extension": ".py",
   "mimetype": "text/x-python",
   "name": "python",
   "nbconvert_exporter": "python",
   "pygments_lexer": "ipython3",
   "version": "3.13.2"
  }
 },
 "nbformat": 4,
 "nbformat_minor": 5
}
